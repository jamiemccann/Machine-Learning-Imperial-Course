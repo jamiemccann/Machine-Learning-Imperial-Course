{
 "cells": [
  {
   "cell_type": "code",
   "execution_count": 2,
   "metadata": {},
   "outputs": [],
   "source": [
    "import numpy as np\n",
    "import pandas as pd\n",
    "from sklearn.linear_model import LinearRegression\n",
    "import matplotlib.pyplot as plt"
   ]
  },
  {
   "cell_type": "code",
   "execution_count": 3,
   "metadata": {},
   "outputs": [],
   "source": [
    "def load_saved_array():\n",
    "    myarrays = np.load('sess4_arr_2.npz') # load the training and test data from previously\n",
    "    train_labels = myarrays['train_labels'] #make trainng labels\n",
    "    test_labels = myarrays['test_labels'] #make test labels\n",
    "    train_prep = myarrays['training_prep'] #make training prep array\n",
    "    test_prep = myarrays['test_prep'] #make test prep array\n",
    "    train_data = pd.read_pickle('sess4_df.pkl') #make train data dataframe\n",
    "    return (train_prep,test_prep,train_labels,test_labels, train_data)\n",
    "\n",
    "train_prep, test_prep,train_labels,test_labels,train_data = load_saved_array()"
   ]
  },
  {
   "cell_type": "code",
   "execution_count": 4,
   "metadata": {},
   "outputs": [],
   "source": [
    "depth_ix, Corr_ix, L_ix, a_ix, b_ix = [\n",
    "    list(train_data.columns).index(col)\n",
    "    for col in (\"Depth (mbsf)\",  \"Corr. Counts\", \"L*\", \"a*\", \"b*\")]"
   ]
  },
  {
   "cell_type": "code",
   "execution_count": 5,
   "metadata": {},
   "outputs": [],
   "source": [
    "L_train = train_prep[:100,L_ix].reshape(-1,1) # We reshape the index to make it a column index. Some algorithms in Scikit-learn take column vectors, some not. Annoying!\n",
    "L_test = test_prep[:100,L_ix].reshape(-1,1)\n",
    "train_labels = train_labels[:100] # This has only 1 column so no need for index\n",
    "test_labels = test_labels[:100]"
   ]
  },
  {
   "cell_type": "code",
   "execution_count": 7,
   "metadata": {},
   "outputs": [
    {
     "data": {
      "text/plain": [
       "SGDRegressor(eta0=0.1, max_iter=50, penalty=None, tol=-inf)"
      ]
     },
     "execution_count": 7,
     "metadata": {},
     "output_type": "execute_result"
    }
   ],
   "source": [
    "from sklearn.linear_model import SGDRegressor\n",
    "\n",
    "# Let's define a new SGDRegressor with the following values for the hyperparameters:\n",
    "# Maximum Number of Iterations (max_iter): 50\n",
    "# Tolerance (tol): - infinity, i.e. we won't stop training based on tolerance\n",
    "# Penalty: None\n",
    "# Initial training rate: 0.1\n",
    "\n",
    "sgd_reg = SGDRegressor(max_iter=50, tol=-np.infty, penalty=None, eta0=0.1)\n",
    "\n",
    "# Now we train, or 'fit' our SGD:\n",
    "sgd_reg.fit(L_train, train_labels)"
   ]
  },
  {
   "cell_type": "code",
   "execution_count": 9,
   "metadata": {},
   "outputs": [
    {
     "data": {
      "text/plain": [
       "array([103.68646237,  37.21962502,  80.04816075,  34.38133432,\n",
       "        26.67135064, 100.38218364,  99.72556416,  84.39032189,\n",
       "        91.71904264,  84.30559679,  67.91129083,  61.74754014,\n",
       "       103.43228708,  88.41476392,  61.36627721,  66.11088255,\n",
       "        83.41598329, 101.67424135,  68.10192229,  92.82046888,\n",
       "        64.90354994,  49.88602678,  88.6689392 ,  85.13166647,\n",
       "        57.34183518,  29.12837841,  83.6489773 ,  95.48930939,\n",
       "        98.81476938,  72.33817707,  53.35975569,  67.91129083,\n",
       "       109.25713739,  83.47952711,  91.5072299 ,  43.89172628,\n",
       "        39.21066476,  79.45508508,  80.30233603,  97.96751843,\n",
       "        80.59887387,  94.81150862,  96.40010416,  56.74875951,\n",
       "        88.37240137,  92.03676175,  85.68237959,  83.7337024 ,\n",
       "        51.96179162, 103.68646237,  56.74875951,  98.45468772,\n",
       "       113.55693598,  84.94103501,  78.86200941,  81.53084992,\n",
       "        39.3377524 ,  77.97239591,  71.59683248,  84.2208717 ,\n",
       "       107.03310363,  88.56303284,  89.53737143,  82.92881399,\n",
       "        88.03350099,  94.2607955 ,  50.20374589,  85.19521029,\n",
       "        88.69012048,  67.91129083, 104.44898822, 102.14022937,\n",
       "        77.44286406, 103.87709383,  57.72309811,  88.22413245,\n",
       "        57.34183518,  93.96425767,  76.21435018,  89.09256468,\n",
       "       116.75530833,  27.64568924,  57.405379  ,  91.12596697,\n",
       "       107.03310363,  64.33165555,  67.91129083,  93.11700671,\n",
       "        91.35896098,  71.93573286,  86.12718634,  91.44368608,\n",
       "        95.91293486,  48.63633163, 119.2123361 ,  47.11127991,\n",
       "        76.25671273, 114.12883037, 101.42006606,  60.62493263])"
      ]
     },
     "execution_count": 9,
     "metadata": {},
     "output_type": "execute_result"
    }
   ],
   "source": [
    "porosity_predictions_SGD = sgd_reg.predict(L_test)\n",
    "porosity_predictions_SGD"
   ]
  },
  {
   "cell_type": "code",
   "execution_count": 13,
   "metadata": {},
   "outputs": [],
   "source": [
    "x_sgd_reg = np.linspace(0,1,10).reshape(-1,1) # again need to reshape\n",
    "\n",
    "# That was our x values. Now we create the y values by 'predicting' them using our fitted linear model:\n",
    "y_sgd_reg = sgd_reg.predict(x_sgd_reg)"
   ]
  },
  {
   "cell_type": "code",
   "execution_count": 14,
   "metadata": {},
   "outputs": [
    {
     "data": {
      "image/png": "[encoded data removed]",
      "text/plain": [
       "<Figure size 432x288 with 1 Axes>"
      ]
     },
     "metadata": {
      "needs_background": "light"
     },
     "output_type": "display_data"
    }
   ],
   "source": [
    "\n",
    "plt.plot(x_sgd_reg, y_sgd_reg, \"r-\", linewidth=2, label=\"Predictions\")\n",
    "plt.plot(L_train, train_labels, \"b.\")\n",
    "plt.xlabel(\"L*\", fontsize=18)\n",
    "plt.ylabel(\"CaCO3 (wt%)\", rotation=90, fontsize=18)\n",
    "plt.legend(loc=\"upper left\", fontsize=14)\n",
    "plt.axis([0, 1, 0, 100])\n",
    "plt.show()"
   ]
  },
  {
   "cell_type": "code",
   "execution_count": 11,
   "metadata": {},
   "outputs": [
    {
     "data": {
      "text/plain": [
       "(array([26.67135064]), array([92.54098546]))"
      ]
     },
     "execution_count": 11,
     "metadata": {},
     "output_type": "execute_result"
    }
   ],
   "source": [
    "sgd_reg.intercept_, sgd_reg.coef_"
   ]
  },
  {
   "cell_type": "code",
   "execution_count": 15,
   "metadata": {},
   "outputs": [],
   "source": [
    "carbonate_predictions = sgd_reg.predict(L_test)"
   ]
  },
  {
   "cell_type": "code",
   "execution_count": 16,
   "metadata": {},
   "outputs": [
    {
     "name": "stdout",
     "output_type": "stream",
     "text": [
      "Root mean squared error is 26.52424206608535\n",
      "Mean absolute error is 20.9618802486455\n"
     ]
    }
   ],
   "source": [
    "from sklearn.metrics import mean_squared_error\n",
    "from sklearn.metrics import mean_absolute_error\n",
    "\n",
    "# we input the true values (test_labels) and predicted values (porosity_prediction) to calculate the MSE and derive the RSME\n",
    "lin_mse = mean_squared_error(test_labels, carbonate_predictions)\n",
    "lin_rmse = np.sqrt(lin_mse)\n",
    "\n",
    "lin_mae = mean_absolute_error(test_labels, carbonate_predictions)\n",
    "\n",
    "\n",
    "print(f'Root mean squared error is {lin_rmse}')\n",
    "print(f'Mean absolute error is {lin_mae}')"
   ]
  },
  {
   "cell_type": "markdown",
   "metadata": {},
   "source": [
    "Again A poor performance of the Gradient Descent Method"
   ]
  }
 ],
 "metadata": {
  "kernelspec": {
   "display_name": "Python 3.8.5 ('base')",
   "language": "python",
   "name": "python3"
  },
  "language_info": {
   "codemirror_mode": {
    "name": "ipython",
    "version": 3
   },
   "file_extension": ".py",
   "mimetype": "text/x-python",
   "name": "python",
   "nbconvert_exporter": "python",
   "pygments_lexer": "ipython3",
   "version": "3.8.5"
  },
  "orig_nbformat": 4,
  "vscode": {
   "interpreter": {
    "hash": "59888dc7101cd4008eb7f82ee3be80fc36f177c3132dc2e0ef154eee00c682bc"
   }
  }
 },
 "nbformat": 4,
 "nbformat_minor": 2
}
