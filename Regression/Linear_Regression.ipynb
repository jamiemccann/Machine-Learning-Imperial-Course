{
 "cells": [
  {
   "cell_type": "code",
   "execution_count": 15,
   "metadata": {},
   "outputs": [],
   "source": [
    "import numpy as np\n",
    "import pandas as pd\n",
    "from sklearn.linear_model import LinearRegression\n",
    "import matplotlib.pyplot as plt"
   ]
  },
  {
   "cell_type": "code",
   "execution_count": 16,
   "metadata": {},
   "outputs": [],
   "source": [
    "def load_saved_array():\n",
    "    myarrays = np.load('sess4_arr_2.npz') # load the training and test data from previously\n",
    "    train_labels = myarrays['train_labels'] #make trainng labels\n",
    "    test_labels = myarrays['test_labels'] #make test labels\n",
    "    train_prep = myarrays['training_prep'] #make training prep array\n",
    "    test_prep = myarrays['test_prep'] #make test prep array\n",
    "    train_data = pd.read_pickle('sess4_df.pkl') #make train data dataframe\n",
    "    return (train_prep,test_prep,train_labels,test_labels, train_data)\n",
    "\n",
    "train_prep, test_prep,train_labels,test_labels,train_data = load_saved_array()"
   ]
  },
  {
   "cell_type": "code",
   "execution_count": 17,
   "metadata": {},
   "outputs": [],
   "source": [
    "depth_ix, Corr_ix, L_ix, a_ix, b_ix = [\n",
    "    list(train_data.columns).index(col)\n",
    "    for col in (\"Depth (mbsf)\",  \"Corr. Counts\", \"L*\", \"a*\", \"b*\")]"
   ]
  },
  {
   "cell_type": "code",
   "execution_count": 18,
   "metadata": {},
   "outputs": [],
   "source": [
    "L_train = train_prep[:100,L_ix].reshape(-1,1) # We reshape the index to make it a column index. Some algorithms in Scikit-learn take column vectors, some not. Annoying!\n",
    "L_test = test_prep[:100,L_ix].reshape(-1,1)\n",
    "train_labels = train_labels[:100] # This has only 1 column so no need for index\n",
    "test_labels = test_labels[:100]"
   ]
  },
  {
   "cell_type": "code",
   "execution_count": 19,
   "metadata": {},
   "outputs": [
    {
     "data": {
      "text/plain": [
       "(16.261611237350323, array([110.61641912]))"
      ]
     },
     "execution_count": 19,
     "metadata": {},
     "output_type": "execute_result"
    }
   ],
   "source": [
    "from sklearn.linear_model import LinearRegression\n",
    "# We first define our model:\n",
    "lin_reg = LinearRegression()\n",
    "\n",
    "# Now we fit our data to the mode. Remember, this means 'train' the model in Scikit-learn terminology:\n",
    "lin_reg.fit(L_train, train_labels)\n",
    "\n",
    "# Now that we have a fitted (or trained) model we can query its parameters. For instance, the intercept and coefficient (slope in univariate terms):\n",
    "lin_reg.intercept_, lin_reg.coef_"
   ]
  },
  {
   "cell_type": "code",
   "execution_count": 20,
   "metadata": {},
   "outputs": [],
   "source": [
    "x_reg = np.linspace(0,1,10).reshape(-1,1) # again need to reshape\n",
    "\n",
    "# That was our x values. Now we create the y values by 'predicting' them using our fitted linear model:\n",
    "y_reg = lin_reg.predict(x_reg)"
   ]
  },
  {
   "cell_type": "code",
   "execution_count": 21,
   "metadata": {},
   "outputs": [
    {
     "data": {
      "image/png": "[encoded data removed]",
      "text/plain": [
       "<Figure size 432x288 with 1 Axes>"
      ]
     },
     "metadata": {
      "needs_background": "light"
     },
     "output_type": "display_data"
    }
   ],
   "source": [
    "\n",
    "plt.plot(x_reg, y_reg, \"r-\", linewidth=2, label=\"Predictions\")\n",
    "plt.plot(L_train, train_labels, \"b.\")\n",
    "plt.xlabel(\"L*\", fontsize=18)\n",
    "plt.ylabel(\"CaCO3 (wt%)\", rotation=90, fontsize=18)\n",
    "plt.legend(loc=\"upper left\", fontsize=14)\n",
    "plt.axis([0, 1, 0, 100])\n",
    "plt.show()"
   ]
  },
  {
   "cell_type": "code",
   "execution_count": 22,
   "metadata": {},
   "outputs": [
    {
     "data": {
      "text/plain": [
       "array([108.31958787,  28.870212  ,  80.0641693 ,  25.47753629,\n",
       "        16.26161124, 104.36990571, 103.58503297,  85.25445676,\n",
       "        94.01464926,  85.15318286,  65.55668289,  58.18900654,\n",
       "       108.01576617,  90.06496709,  57.73327398,  63.40461247,\n",
       "        84.08980689, 105.91433271,  65.78454916,  95.33120998,\n",
       "        61.96145938,  44.0106603 ,  90.3687888 ,  86.1406034 ,\n",
       "        52.92276365,  19.19855439,  84.36831012,  98.52133789,\n",
       "       102.49633853,  70.84824425,  48.16289027,  65.55668289,\n",
       "       114.97834691,  84.16576232,  93.76146451,  36.84553176,\n",
       "        31.25014869,  79.35525199,  80.36799101, 101.48359951,\n",
       "        80.72244966,  97.71114667,  99.61003233,  52.21384634,\n",
       "        90.01433014,  94.39442639,  86.79888376,  84.46958403,\n",
       "        46.49187089, 108.31958787,  52.21384634, 102.06592444,\n",
       "       120.11799742,  85.91273713,  78.64633468,  81.83646258,\n",
       "        31.40205954,  77.58295871,  69.96209761,  85.05190896,\n",
       "       112.31990699,  90.24219642,  91.40684629,  83.50748196,\n",
       "        89.60923454,  97.05286631,  44.39043743,  86.21655883,\n",
       "        90.39410727,  65.55668289, 109.23105299, 106.47133917,\n",
       "        76.94999683, 108.54745415,  53.37849621,  89.83710082,\n",
       "        52.92276365,  96.69840766,  75.48152525,  90.87515831,\n",
       "       123.94108721,  17.42626111,  52.99871908,  93.30573195,\n",
       "       112.31990699,  61.27786054,  65.55668289,  95.68566864,\n",
       "        93.58423518,  70.36719322,  87.33057175,  93.68550908,\n",
       "        99.02770739,  42.51687025, 126.87803036,  40.69394002,\n",
       "        75.5321622 , 120.80159626, 105.610511  ,  56.84712734])"
      ]
     },
     "execution_count": 22,
     "metadata": {},
     "output_type": "execute_result"
    }
   ],
   "source": [
    "carbonate_predictions = lin_reg.predict(L_test) # notice how we use again the '.predict' method for our test set on our trained model. Let's look at the predictions:\n"
   ]
  },
  {
   "cell_type": "code",
   "execution_count": 33,
   "metadata": {},
   "outputs": [
    {
     "name": "stdout",
     "output_type": "stream",
     "text": [
      "Root mean squared error is 26.48664112951482\n",
      "Mean absolute error is 21.525417697384686\n"
     ]
    }
   ],
   "source": [
    "from sklearn.metrics import mean_squared_error\n",
    "from sklearn.metrics import mean_absolute_error\n",
    "\n",
    "# we input the true values (test_labels) and predicted values (porosity_prediction) to calculate the MSE and derive the RSME\n",
    "lin_mse = mean_squared_error(test_labels, carbonate_predictions)\n",
    "lin_rmse = np.sqrt(lin_mse)\n",
    "\n",
    "lin_mae = mean_absolute_error(test_labels, carbonate_predictions)\n",
    "\n",
    "\n",
    "print(f'Root mean squared error is {lin_rmse}')\n",
    "print(f'Mean absolute error is {lin_mae}')"
   ]
  },
  {
   "cell_type": "markdown",
   "metadata": {},
   "source": [
    "Overall Poor Performance of the Linear Regression Algorithm using L* to predict CaCO3"
   ]
  },
  {
   "cell_type": "code",
   "execution_count": null,
   "metadata": {},
   "outputs": [],
   "source": []
  },
  {
   "cell_type": "code",
   "execution_count": null,
   "metadata": {},
   "outputs": [],
   "source": []
  }
 ],
 "metadata": {
  "kernelspec": {
   "display_name": "Python 3.8.5 ('base')",
   "language": "python",
   "name": "python3"
  },
  "language_info": {
   "codemirror_mode": {
    "name": "ipython",
    "version": 3
   },
   "file_extension": ".py",
   "mimetype": "text/x-python",
   "name": "python",
   "nbconvert_exporter": "python",
   "pygments_lexer": "ipython3",
   "version": "3.8.5"
  },
  "orig_nbformat": 4,
  "vscode": {
   "interpreter": {
    "hash": "59888dc7101cd4008eb7f82ee3be80fc36f177c3132dc2e0ef154eee00c682bc"
   }
  }
 },
 "nbformat": 4,
 "nbformat_minor": 2
}
